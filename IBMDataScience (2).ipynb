{
 "cells": [
  {
   "cell_type": "markdown",
   "id": "ede30d9f-a47f-4e33-875e-96fc72fa0037",
   "metadata": {},
   "source": [
    "## IBM Data Science Prep"
   ]
  },
  {
   "cell_type": "markdown",
   "id": "8da9809c-c2fe-4c49-8ebf-94a58abfa1e1",
   "metadata": {},
   "source": [
    "## intro\n",
    "This notebook has basic markdown and code exercises for practicing essential data science concepts. "
   ]
  },
  {
   "cell_type": "markdown",
   "id": "f45e2067-366b-4a14-bf35-d330c2dad1e6",
   "metadata": {},
   "source": [
    "# Data Sciecnce Languages\n",
    "- Python, R, SQL, Java, Scala"
   ]
  },
  {
   "cell_type": "markdown",
   "id": "f16b28ed-dd36-45d8-a2a5-ec874cec59ea",
   "metadata": {},
   "source": [
    "# Data Science Libraries\n",
    "- Pandas, NumPy, Scikit-learn, TensorFlow, Matplotlib"
   ]
  },
  {
   "cell_type": "markdown",
   "id": "d8c86722-053f-4365-85ab-72d09f90ebc6",
   "metadata": {},
   "source": [
    "# Data Science Tools\n",
    "| Tool | Description \n",
    "Jupyter | Interactive coding notebooks\n",
    "RStudio | IDE for R\n",
    "VS Code | General code editor\n",
    "Apache Spark | Big data processing\n",
    "Tensor Flow | Deep learning framework"
   ]
  },
  {
   "cell_type": "markdown",
   "id": "64866d60-ae0e-4108-a117-120985f0e7f2",
   "metadata": {},
   "source": [
    "# Arithmetic Expression Examples\n",
    "- 3 +3 = 6\n",
    "- 10+4 = 14\n",
    "- 2* 3 = 6\n",
    "- 20/4 = 5"
   ]
  },
  {
   "cell_type": "code",
   "execution_count": 4,
   "id": "ce79a499-c6ec-4fde-9bf8-31c47d22069e",
   "metadata": {},
   "outputs": [
    {
     "name": "stdout",
     "output_type": "stream",
     "text": [
      "17\n"
     ]
    }
   ],
   "source": [
    "a = 5 \n",
    "b = 3\n",
    "c = a*b + 2\n",
    "print(c)"
   ]
  },
  {
   "cell_type": "code",
   "execution_count": 8,
   "id": "707a1c1d-c75f-46b4-9038-f69292cd6f49",
   "metadata": {},
   "outputs": [
    {
     "name": "stdout",
     "output_type": "stream",
     "text": [
      "2.0\n"
     ]
    }
   ],
   "source": [
    "minutes = 120\n",
    "hours = minutes /  60\n",
    "print(hours)\n"
   ]
  },
  {
   "cell_type": "code",
   "execution_count": 10,
   "id": "07a48a90-8ed4-4ea0-8dcf-dcb3b968a02f",
   "metadata": {},
   "outputs": [],
   "source": [
    "## Objectives "
   ]
  },
  {
   "cell_type": "code",
   "execution_count": null,
   "id": "1b2955a4-c917-4518-9f46-c43f47c7d08a",
   "metadata": {},
   "outputs": [],
   "source": [
    "- "
   ]
  }
 ],
 "metadata": {
  "kernelspec": {
   "display_name": "Python [conda env:base] *",
   "language": "python",
   "name": "conda-base-py"
  },
  "language_info": {
   "codemirror_mode": {
    "name": "ipython",
    "version": 3
   },
   "file_extension": ".py",
   "mimetype": "text/x-python",
   "name": "python",
   "nbconvert_exporter": "python",
   "pygments_lexer": "ipython3",
   "version": "3.12.7"
  }
 },
 "nbformat": 4,
 "nbformat_minor": 5
}
